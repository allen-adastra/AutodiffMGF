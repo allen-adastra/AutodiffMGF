{
 "cells": [
  {
   "cell_type": "code",
   "execution_count": null,
   "metadata": {},
   "outputs": [],
   "source": []
  },
  {
   "cell_type": "code",
   "execution_count": 31,
   "metadata": {},
   "outputs": [
    {
     "name": "stdout",
     "output_type": "stream",
     "text": [
      "1th moment: 0.0\n",
      "Computation time: 0.005959033966064453\n",
      "2th moment: 1.0\n",
      "Computation time: 0.012903213500976562\n",
      "3th moment: 0.0\n",
      "Computation time: 0.030820369720458984\n",
      "4th moment: 3.0\n",
      "Computation time: 0.04416775703430176\n",
      "5th moment: 0.0\n",
      "Computation time: 0.09218788146972656\n",
      "6th moment: 15.0\n",
      "Computation time: 0.19665074348449707\n",
      "7th moment: 0.0\n",
      "Computation time: 0.427490234375\n",
      "8th moment: 105.0\n",
      "Computation time: 0.9986979961395264\n",
      "9th moment: 0.0\n",
      "Computation time: 2.5234081745147705\n",
      "10th moment: 945.0\n",
      "Computation time: 7.489375829696655\n"
     ]
    }
   ],
   "source": [
    "import jax\n",
    "from jax import grad, jit, vmap\n",
    "import jax.numpy as np\n",
    "import math\n",
    "\n",
    "def normal_mgf(t, mu, sigma_sq):\n",
    "    return np.exp(mu * t + 0.5 * sigma_sq * t**2.0)\n",
    "\n",
    "def nth_moment_functions(n):\n",
    "    functions = dict()\n",
    "    fun = normal_mgf\n",
    "    for i in range(n):\n",
    "        fun = grad(fun, argnums=0)\n",
    "        functions[i+1] = fun\n",
    "    return functions\n",
    "\n",
    "functions = nth_moment_functions(10)\n",
    "\n",
    "import time\n",
    "for key, fun in functions.items():\n",
    "    tstart = time.time()\n",
    "    print(str(key) + \"th moment: \" + str(fun(0.0, 0.0, 1.0)))\n",
    "    tend = time.time()\n",
    "    print(\"Computation time: \" + str(tend-tstart))"
   ]
  },
  {
   "cell_type": "code",
   "execution_count": null,
   "metadata": {},
   "outputs": [],
   "source": []
  }
 ],
 "metadata": {
  "kernelspec": {
   "display_name": "Python 3.7.6 64-bit ('base': conda)",
   "language": "python",
   "name": "python37664bitbasecondad4fc7602af4e4dd8a5852b63a2d9cdcd"
  },
  "language_info": {
   "codemirror_mode": {
    "name": "ipython",
    "version": 3
   },
   "file_extension": ".py",
   "mimetype": "text/x-python",
   "name": "python",
   "nbconvert_exporter": "python",
   "pygments_lexer": "ipython3",
   "version": "3.7.6"
  }
 },
 "nbformat": 4,
 "nbformat_minor": 4
}
